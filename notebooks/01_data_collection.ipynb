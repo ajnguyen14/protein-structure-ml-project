{
 "cells": [
  {
   "cell_type": "markdown",
   "metadata": {},
   "source": [
    "# Protein Structure-Function ML Project\n",
    "## Data Collection Notebook\n",
    "\n",
    "This notebook implements the data collection phase of the project."
   ]
  },
  {
   "cell_type": "code",
   "execution_count": 25,
   "metadata": {},
   "outputs": [
    {
     "name": "stdout",
     "output_type": "stream",
     "text": [
      "=== ENVIRONMENT CHECK ===\n",
      "Python version: 3.9.2\n",
      "BioPython: 1.85\n",
      "Working directory: C:\\Users\\aidan\\Documents\\GitHub\\protein-structure-ml-project\\notebooks\n",
      "✓ Environment ready for data collection\n"
     ]
    }
   ],
   "source": [
    "# Protein Structure-Function ML Project\n",
    "# Data Collection Notebook\n",
    "\n",
    "import sys\n",
    "import numpy as np\n",
    "import pandas as pd\n",
    "import Bio\n",
    "from src.data.sources import get_data_source\n",
    "\n",
    "print(\"=== ENVIRONMENT CHECK ===\")\n",
    "print(f\"Python version: {sys.version[:5]}\")\n",
    "print(f\"BioPython: {Bio.__version__}\")\n",
    "print(f\"Working directory: {Path.cwd()}\")\n",
    "print(\"✓ Environment ready for data collection\")"
   ]
  },
  {
   "cell_type": "code",
   "execution_count": 26,
   "metadata": {},
   "outputs": [
    {
     "name": "stderr",
     "output_type": "stream",
     "text": [
      "INFO:src.data.sources:PDB data source initialized with cache at ..\\data\\raw\n"
     ]
    },
    {
     "name": "stdout",
     "output_type": "stream",
     "text": [
      "✓ PDB data source initialized\n",
      "Cache directory: ..\\data\\raw\n",
      "✓ Connection test successful with 1crn\n"
     ]
    }
   ],
   "source": [
    "# Initialize PDB Data Source\n",
    "from src.data.sources import get_data_source\n",
    "from pathlib import Path\n",
    "\n",
    "# Create PDB data source with caching\n",
    "pdb_source = get_data_source(\"pdb\", cache_dir=\"../data/raw\")\n",
    "print(\"✓ PDB data source initialized\")\n",
    "print(f\"Cache directory: {pdb_source.cache_dir}\")\n",
    "\n",
    "# Test connection with a small protein\n",
    "test_protein = \"1crn\"  # Small test protein\n",
    "try:\n",
    "    structure = pdb_source.get_structure(test_protein)\n",
    "    print(f\"✓ Connection test successful with {test_protein}\")\n",
    "except Exception as e:\n",
    "    print(f\"✗ Connection test failed: {e}\")"
   ]
  },
  {
   "cell_type": "code",
   "execution_count": 27,
   "metadata": {},
   "outputs": [
    {
     "name": "stderr",
     "output_type": "stream",
     "text": [
      "INFO:src.data.sources:PDB data source initialized with cache at ..\\data\\raw\n"
     ]
    },
    {
     "name": "stdout",
     "output_type": "stream",
     "text": [
      "Creating dataset.py module...\n",
      "✓ Created dataset.py module\n",
      "✓ Dataset registry initialized\n",
      "Registry file: ..\\data\\processed\\protein_registry.json\n",
      "Starting with empty registry\n"
     ]
    }
   ],
   "source": [
    "# Initialize Dataset Registry\n",
    "import sys\n",
    "from pathlib import Path\n",
    "\n",
    "# Add project root to Python path\n",
    "project_root = Path.cwd().parent\n",
    "if str(project_root) not in sys.path:\n",
    "    sys.path.append(str(project_root))\n",
    "\n",
    "# Check if dataset module exists, if not create it\n",
    "dataset_file = project_root / \"src\" / \"data\" / \"dataset.py\"\n",
    "if not dataset_file.exists():\n",
    "    print(\"Creating dataset.py module...\")\n",
    "    \n",
    "    # Create the dataset module (minimal version for now)\n",
    "    dataset_code = '''\"\"\"\n",
    "Protein dataset selection and registry for the ML project.\n",
    "\"\"\"\n",
    "\n",
    "import pandas as pd\n",
    "import json\n",
    "from pathlib import Path\n",
    "import logging\n",
    "from src.data.sources import get_data_source\n",
    "\n",
    "logger = logging.getLogger(__name__)\n",
    "\n",
    "class ProteinDatasetRegistry:\n",
    "    \"\"\"Manages protein selection and dataset creation for the ML project.\"\"\"\n",
    "    \n",
    "    def __init__(self, data_source=None, registry_file=\"../data/processed/protein_registry.json\"):\n",
    "        self.data_source = data_source or get_data_source(\"pdb\")\n",
    "        self.registry_file = Path(registry_file)\n",
    "        self.registry_file.parent.mkdir(parents=True, exist_ok=True)\n",
    "        self.proteins = self.load_registry()\n",
    "        \n",
    "        # Selection criteria\n",
    "        self.selection_criteria = {\n",
    "            \"max_resolution\": 2.5,\n",
    "            \"min_length\": 50,\n",
    "            \"max_length\": 300,\n",
    "            \"require_ec\": True\n",
    "        }\n",
    "    \n",
    "    def load_registry(self):\n",
    "        \"\"\"Load existing protein registry or create empty one.\"\"\"\n",
    "        if self.registry_file.exists():\n",
    "            with open(self.registry_file, 'r') as f:\n",
    "                return json.load(f)\n",
    "        return {}\n",
    "    \n",
    "    def save_registry(self):\n",
    "        \"\"\"Save the protein registry to file.\"\"\"\n",
    "        with open(self.registry_file, 'w') as f:\n",
    "            json.dump(self.proteins, f, indent=2)\n",
    "        logger.info(f\"Saved {len(self.proteins)} proteins to registry\")\n",
    "    \n",
    "    def add_protein(self, protein_id):\n",
    "        \"\"\"Add a protein to the registry after evaluation.\"\"\"\n",
    "        protein_id = protein_id.lower()\n",
    "        \n",
    "        if protein_id in self.proteins:\n",
    "            return self.proteins[protein_id]\n",
    "        \n",
    "        try:\n",
    "            # Validate structure\n",
    "            is_valid, validation_info = self.data_source.validate_structure(\n",
    "                protein_id,\n",
    "                max_resolution=self.selection_criteria[\"max_resolution\"],\n",
    "                min_length=self.selection_criteria[\"min_length\"],\n",
    "                max_length=self.selection_criteria[\"max_length\"]\n",
    "            )\n",
    "            \n",
    "            # Get function info\n",
    "            function_info = self.data_source.get_function(protein_id)\n",
    "            \n",
    "            evaluation = {\n",
    "                \"protein_id\": protein_id,\n",
    "                \"meets_criteria\": is_valid,\n",
    "                \"validation_info\": validation_info,\n",
    "                \"function_info\": function_info,\n",
    "                \"evaluation_date\": pd.Timestamp.now().isoformat()\n",
    "            }\n",
    "            \n",
    "            self.proteins[protein_id] = evaluation\n",
    "            return evaluation\n",
    "            \n",
    "        except Exception as e:\n",
    "            evaluation = {\n",
    "                \"protein_id\": protein_id,\n",
    "                \"meets_criteria\": False,\n",
    "                \"error\": str(e),\n",
    "                \"evaluation_date\": pd.Timestamp.now().isoformat()\n",
    "            }\n",
    "            self.proteins[protein_id] = evaluation\n",
    "            return evaluation\n",
    "    \n",
    "    def get_valid_proteins(self):\n",
    "        \"\"\"Get all proteins that meet criteria.\"\"\"\n",
    "        return {pid: info for pid, info in self.proteins.items() \n",
    "                if info.get(\"meets_criteria\", False)}\n",
    "    \n",
    "    def generate_summary_report(self):\n",
    "        \"\"\"Generate summary report.\"\"\"\n",
    "        total = len(self.proteins)\n",
    "        valid = len(self.get_valid_proteins())\n",
    "        \n",
    "        return {\n",
    "            \"total_proteins_evaluated\": total,\n",
    "            \"valid_proteins\": valid,\n",
    "            \"invalid_proteins\": total - valid,\n",
    "            \"proteins_by_ec_class\": {},  # Simplified for now\n",
    "            \"selection_criteria\": self.selection_criteria,\n",
    "            \"registry_file\": str(self.registry_file)\n",
    "        }\n",
    "\n",
    "def recommend_initial_proteins():\n",
    "    \"\"\"Recommend good initial proteins for testing.\"\"\"\n",
    "    return [\n",
    "        \"1lyz\",  # Lysozyme\n",
    "        \"1tim\",  # Triose phosphate isomerase  \n",
    "        \"1crn\",  # Crambin\n",
    "        \"1hrd\",  # Horseradish peroxidase\n",
    "        \"1gox\",  # Glucose oxidase\n",
    "        \"1cax\",  # Carbonic anhydrase\n",
    "    ]\n",
    "'''\n",
    "    \n",
    "    # Write the dataset module\n",
    "    with open(dataset_file, 'w') as f:\n",
    "        f.write(dataset_code)\n",
    "    print(\"✓ Created dataset.py module\")\n",
    "\n",
    "# Now import the module\n",
    "try:\n",
    "    from src.data.dataset import ProteinDatasetRegistry, recommend_initial_proteins\n",
    "    \n",
    "    # Create dataset registry\n",
    "    registry = ProteinDatasetRegistry()\n",
    "    print(f\"✓ Dataset registry initialized\")\n",
    "    print(f\"Registry file: {registry.registry_file}\")\n",
    "    \n",
    "    # Check existing data\n",
    "    existing_count = len(registry.proteins)\n",
    "    if existing_count > 0:\n",
    "        print(f\"Found {existing_count} proteins in existing registry\")\n",
    "    else:\n",
    "        print(\"Starting with empty registry\")\n",
    "        \n",
    "except ImportError as e:\n",
    "    print(f\"Import error: {e}\")\n",
    "    print(\"Please check that the src/data directory structure exists\")"
   ]
  },
  {
   "cell_type": "code",
   "execution_count": 28,
   "metadata": {},
   "outputs": [
    {
     "name": "stdout",
     "output_type": "stream",
     "text": [
      "=== SELECTION CRITERIA ===\n",
      "max_resolution    : 2.5\n",
      "min_length        : 50\n",
      "max_length        : 300\n",
      "target_ec_classes : ['1', '2', '3', '4']\n",
      "proteins_per_class: 10\n",
      "require_ec        : True\n",
      "\n",
      "=== TARGET ENZYME CLASSES ===\n",
      "EC 1: Oxidoreductases\n",
      "EC 2: Transferases\n",
      "EC 3: Hydrolases\n",
      "EC 4: Lyases\n"
     ]
    }
   ],
   "source": [
    "# Define Protein Selection Criteria\n",
    "# Based on project outline: focus on enzymes with clear function\n",
    "\n",
    "selection_criteria = {\n",
    "    \"max_resolution\": 2.5,        # Angstroms (high-quality structures)\n",
    "    \"min_length\": 50,             # amino acids (avoid peptides)\n",
    "    \"max_length\": 300,            # amino acids (manageable size)\n",
    "    \"target_ec_classes\": [\"1\", \"2\", \"3\", \"4\"],  # Focus on 4 diverse classes\n",
    "    \"proteins_per_class\": 10,     # Target for balanced dataset\n",
    "    \"require_ec\": True            # Must have EC number annotation\n",
    "}\n",
    "\n",
    "print(\"=== SELECTION CRITERIA ===\")\n",
    "for key, value in selection_criteria.items():\n",
    "    print(f\"{key:18s}: {value}\")\n",
    "\n",
    "# Target enzyme classes for the project\n",
    "target_classes = {\n",
    "    \"1\": \"Oxidoreductases\",   # e.g., dehydrogenases, oxidases\n",
    "    \"2\": \"Transferases\",      # e.g., kinases, transaminases  \n",
    "    \"3\": \"Hydrolases\",        # e.g., proteases, lipases\n",
    "    \"4\": \"Lyases\"             # e.g., decarboxylases, aldolases\n",
    "}\n",
    "\n",
    "print(\"\\n=== TARGET ENZYME CLASSES ===\")\n",
    "for ec_num, name in target_classes.items():\n",
    "    print(f\"EC {ec_num}: {name}\")"
   ]
  },
  {
   "cell_type": "code",
   "execution_count": 34,
   "metadata": {},
   "outputs": [
    {
     "name": "stderr",
     "output_type": "stream",
     "text": [
      "INFO:src.data.sources:Downloading https://files.rcsb.org/download/1u8s.pdb\n"
     ]
    },
    {
     "name": "stdout",
     "output_type": "stream",
     "text": [
      "======================================================================\n",
      "COMPREHENSIVE PROTEIN DATASET COLLECTION\n",
      "======================================================================\n",
      "Target: 40 total proteins (8 per EC class)\n",
      "Starting with: 25 valid proteins\n",
      "\n",
      "--- STAGE 1: TESTING INITIAL PROTEINS ---\n",
      "\n",
      "--- STAGE 2: STRATEGIC COLLECTION BY EC CLASS ---\n",
      "\n",
      "EC 1 (Oxidoreductases):\n",
      "  Current: 4, Target: 8, Need: 4\n"
     ]
    },
    {
     "name": "stderr",
     "output_type": "stream",
     "text": [
      "INFO:src.data.sources:Saved PDB file to ..\\data\\raw\\1u8s.pdb\n",
      "INFO:src.data.sources:Downloading https://files.rcsb.org/download/1s3b.pdb\n"
     ]
    },
    {
     "name": "stdout",
     "output_type": "stream",
     "text": [
      "  ✗ 1U8S: Too long: 343 > 300\n"
     ]
    },
    {
     "name": "stderr",
     "output_type": "stream",
     "text": [
      "INFO:src.data.sources:Saved PDB file to ..\\data\\raw\\1s3b.pdb\n",
      "INFO:src.data.sources:Downloading https://files.rcsb.org/download/1h6v.pdb\n"
     ]
    },
    {
     "name": "stdout",
     "output_type": "stream",
     "text": [
      "  ✗ 1S3B: Too long: 993 > 300\n"
     ]
    },
    {
     "name": "stderr",
     "output_type": "stream",
     "text": [
      "INFO:src.data.sources:Saved PDB file to ..\\data\\raw\\1h6v.pdb\n",
      "INFO:src.data.sources:Downloading https://files.rcsb.org/download/2acy.pdb\n"
     ]
    },
    {
     "name": "stdout",
     "output_type": "stream",
     "text": [
      "  ✗ 1H6V: Resolution 3.0 > 2.5\n"
     ]
    },
    {
     "name": "stderr",
     "output_type": "stream",
     "text": [
      "INFO:src.data.sources:Saved PDB file to ..\\data\\raw\\2acy.pdb\n",
      "INFO:src.data.sources:Downloading https://files.rcsb.org/download/1lbu.pdb\n"
     ]
    },
    {
     "name": "stdout",
     "output_type": "stream",
     "text": [
      "  ✓ 2ACY: 1.8Å, 98aa\n"
     ]
    },
    {
     "name": "stderr",
     "output_type": "stream",
     "text": [
      "INFO:src.data.sources:Saved PDB file to ..\\data\\raw\\1lbu.pdb\n",
      "INFO:src.data.sources:Downloading https://files.rcsb.org/download/1f8a.pdb\n"
     ]
    },
    {
     "name": "stdout",
     "output_type": "stream",
     "text": [
      "  ✓ 1LBU: 1.8Å, 213aa\n"
     ]
    },
    {
     "name": "stderr",
     "output_type": "stream",
     "text": [
      "INFO:src.data.sources:Saved PDB file to ..\\data\\raw\\1f8a.pdb\n",
      "INFO:src.data.sources:Downloading https://files.rcsb.org/download/1sez.pdb\n"
     ]
    },
    {
     "name": "stdout",
     "output_type": "stream",
     "text": [
      "  ✓ 1F8A: 1.84Å, 160aa\n"
     ]
    },
    {
     "name": "stderr",
     "output_type": "stream",
     "text": [
      "INFO:src.data.sources:Saved PDB file to ..\\data\\raw\\1sez.pdb\n",
      "INFO:src.data.sources:Downloading https://files.rcsb.org/download/2cmd.pdb\n"
     ]
    },
    {
     "name": "stdout",
     "output_type": "stream",
     "text": [
      "  ✗ 1SEZ: Resolution 2.9 > 2.5\n"
     ]
    },
    {
     "name": "stderr",
     "output_type": "stream",
     "text": [
      "INFO:src.data.sources:Saved PDB file to ..\\data\\raw\\2cmd.pdb\n",
      "INFO:src.data.sources:Downloading https://files.rcsb.org/download/1t2d.pdb\n"
     ]
    },
    {
     "name": "stdout",
     "output_type": "stream",
     "text": [
      "  ✗ 2CMD: Too long: 312 > 300\n"
     ]
    },
    {
     "name": "stderr",
     "output_type": "stream",
     "text": [
      "INFO:src.data.sources:Saved PDB file to ..\\data\\raw\\1t2d.pdb\n",
      "INFO:src.data.sources:Downloading https://files.rcsb.org/download/1hdc.pdb\n"
     ]
    },
    {
     "name": "stdout",
     "output_type": "stream",
     "text": [
      "  ✗ 1T2D: Too long: 315 > 300\n"
     ]
    },
    {
     "name": "stderr",
     "output_type": "stream",
     "text": [
      "INFO:src.data.sources:Saved PDB file to ..\\data\\raw\\1hdc.pdb\n",
      "INFO:src.data.sources:Downloading https://files.rcsb.org/download/1q7b.pdb\n"
     ]
    },
    {
     "name": "stdout",
     "output_type": "stream",
     "text": [
      "  ✗ 1HDC: Too long: 1012 > 300\n"
     ]
    },
    {
     "name": "stderr",
     "output_type": "stream",
     "text": [
      "INFO:src.data.sources:Saved PDB file to ..\\data\\raw\\1q7b.pdb\n",
      "INFO:src.data.sources:Downloading https://files.rcsb.org/download/1wxd.pdb\n"
     ]
    },
    {
     "name": "stdout",
     "output_type": "stream",
     "text": [
      "  ✗ 1Q7B: Too long: 970 > 300\n"
     ]
    },
    {
     "name": "stderr",
     "output_type": "stream",
     "text": [
      "INFO:src.data.sources:Saved PDB file to ..\\data\\raw\\1wxd.pdb\n",
      "INFO:src.data.sources:Downloading https://files.rcsb.org/download/1c7d.pdb\n"
     ]
    },
    {
     "name": "stdout",
     "output_type": "stream",
     "text": [
      "  ✗ 1WXD: Too long: 526 > 300\n"
     ]
    },
    {
     "name": "stderr",
     "output_type": "stream",
     "text": [
      "INFO:src.data.sources:Saved PDB file to ..\\data\\raw\\1c7d.pdb\n",
      "INFO:src.data.sources:Downloading https://files.rcsb.org/download/2b5e.pdb\n"
     ]
    },
    {
     "name": "stdout",
     "output_type": "stream",
     "text": [
      "  ✗ 1C7D: Too long: 576 > 300\n"
     ]
    },
    {
     "name": "stderr",
     "output_type": "stream",
     "text": [
      "INFO:src.data.sources:Saved PDB file to ..\\data\\raw\\2b5e.pdb\n",
      "INFO:src.data.sources:Downloading https://files.rcsb.org/download/1r37.pdb\n"
     ]
    },
    {
     "name": "stdout",
     "output_type": "stream",
     "text": [
      "  ✗ 2B5E: Too long: 483 > 300\n"
     ]
    },
    {
     "name": "stderr",
     "output_type": "stream",
     "text": [
      "INFO:src.data.sources:Saved PDB file to ..\\data\\raw\\1r37.pdb\n",
      "INFO:src.data.sources:Downloading https://files.rcsb.org/download/1mor.pdb\n"
     ]
    },
    {
     "name": "stdout",
     "output_type": "stream",
     "text": [
      "  ✗ 1R37: Too long: 694 > 300\n"
     ]
    },
    {
     "name": "stderr",
     "output_type": "stream",
     "text": [
      "INFO:src.data.sources:Saved PDB file to ..\\data\\raw\\1mor.pdb\n",
      "INFO:src.data.sources:Downloading https://files.rcsb.org/download/1hdy.pdb\n"
     ]
    },
    {
     "name": "stdout",
     "output_type": "stream",
     "text": [
      "  ✗ 1MOR: Too long: 366 > 300\n"
     ]
    },
    {
     "name": "stderr",
     "output_type": "stream",
     "text": [
      "INFO:src.data.sources:Saved PDB file to ..\\data\\raw\\1hdy.pdb\n",
      "INFO:src.data.sources:Downloading https://files.rcsb.org/download/1ged.pdb\n"
     ]
    },
    {
     "name": "stdout",
     "output_type": "stream",
     "text": [
      "  ✗ 1HDY: Too long: 748 > 300\n"
     ]
    },
    {
     "name": "stderr",
     "output_type": "stream",
     "text": [
      "INFO:src.data.sources:Saved PDB file to ..\\data\\raw\\1ged.pdb\n",
      "INFO:src.data.sources:Downloading https://files.rcsb.org/download/1uzn.pdb\n"
     ]
    },
    {
     "name": "stdout",
     "output_type": "stream",
     "text": [
      "  ✗ 1GED: Too long: 399 > 300\n"
     ]
    },
    {
     "name": "stderr",
     "output_type": "stream",
     "text": [
      "INFO:src.data.sources:Saved PDB file to ..\\data\\raw\\1uzn.pdb\n",
      "INFO:src.data.sources:Downloading https://files.rcsb.org/download/1dhr.pdb\n"
     ]
    },
    {
     "name": "stdout",
     "output_type": "stream",
     "text": [
      "  ✗ 1UZN: Too long: 465 > 300\n"
     ]
    },
    {
     "name": "stderr",
     "output_type": "stream",
     "text": [
      "INFO:src.data.sources:Saved PDB file to ..\\data\\raw\\1dhr.pdb\n",
      "INFO:src.data.sources:Downloading https://files.rcsb.org/download/1hck.pdb\n"
     ]
    },
    {
     "name": "stdout",
     "output_type": "stream",
     "text": [
      "  ✓ 1DHR: 2.3Å, 236aa\n",
      "  → Added 4 proteins to EC 1\n",
      "\n",
      "EC 2 (Transferases):\n",
      "  Current: 3, Target: 8, Need: 5\n"
     ]
    },
    {
     "name": "stderr",
     "output_type": "stream",
     "text": [
      "INFO:src.data.sources:Saved PDB file to ..\\data\\raw\\1hck.pdb\n",
      "INFO:src.data.sources:Downloading https://files.rcsb.org/download/1o6l.pdb\n"
     ]
    },
    {
     "name": "stdout",
     "output_type": "stream",
     "text": [
      "  ✓ 1HCK: 1.9Å, 294aa\n"
     ]
    },
    {
     "name": "stderr",
     "output_type": "stream",
     "text": [
      "INFO:src.data.sources:Saved PDB file to ..\\data\\raw\\1o6l.pdb\n",
      "INFO:src.data.sources:Downloading https://files.rcsb.org/download/1lpg.pdb\n"
     ]
    },
    {
     "name": "stdout",
     "output_type": "stream",
     "text": [
      "  ✗ 1O6L: Too long: 326 > 300\n"
     ]
    },
    {
     "name": "stderr",
     "output_type": "stream",
     "text": [
      "INFO:src.data.sources:Saved PDB file to ..\\data\\raw\\1lpg.pdb\n",
      "INFO:src.data.sources:Downloading https://files.rcsb.org/download/1byg.pdb\n"
     ]
    },
    {
     "name": "stdout",
     "output_type": "stream",
     "text": [
      "  ✓ 1LPG: 2.0Å, 287aa\n"
     ]
    },
    {
     "name": "stderr",
     "output_type": "stream",
     "text": [
      "INFO:src.data.sources:Saved PDB file to ..\\data\\raw\\1byg.pdb\n",
      "INFO:src.data.sources:Downloading https://files.rcsb.org/download/1vie.pdb\n"
     ]
    },
    {
     "name": "stdout",
     "output_type": "stream",
     "text": [
      "  ✓ 1BYG: 2.4Å, 246aa\n"
     ]
    },
    {
     "name": "stderr",
     "output_type": "stream",
     "text": [
      "INFO:src.data.sources:Saved PDB file to ..\\data\\raw\\1vie.pdb\n",
      "INFO:src.data.sources:Downloading https://files.rcsb.org/download/1a49.pdb\n"
     ]
    },
    {
     "name": "stdout",
     "output_type": "stream",
     "text": [
      "  ✓ 1VIE: 1.7Å, 60aa\n"
     ]
    },
    {
     "name": "stderr",
     "output_type": "stream",
     "text": [
      "INFO:src.data.sources:Saved PDB file to ..\\data\\raw\\1a49.pdb\n",
      "INFO:src.data.sources:Downloading https://files.rcsb.org/download/1e2m.pdb\n"
     ]
    },
    {
     "name": "stdout",
     "output_type": "stream",
     "text": [
      "  ✗ 1A49: Too long: 4152 > 300\n"
     ]
    },
    {
     "name": "stderr",
     "output_type": "stream",
     "text": [
      "INFO:src.data.sources:Saved PDB file to ..\\data\\raw\\1e2m.pdb\n",
      "INFO:src.data.sources:Downloading https://files.rcsb.org/download/1w0k.pdb\n"
     ]
    },
    {
     "name": "stdout",
     "output_type": "stream",
     "text": [
      "  ✗ 1E2M: Too long: 615 > 300\n"
     ]
    },
    {
     "name": "stderr",
     "output_type": "stream",
     "text": [
      "INFO:src.data.sources:Saved PDB file to ..\\data\\raw\\1w0k.pdb\n",
      "INFO:src.data.sources:Downloading https://files.rcsb.org/download/1tki.pdb\n"
     ]
    },
    {
     "name": "stdout",
     "output_type": "stream",
     "text": [
      "  ✗ 1W0K: Resolution 2.85 > 2.5\n"
     ]
    },
    {
     "name": "stderr",
     "output_type": "stream",
     "text": [
      "INFO:src.data.sources:Saved PDB file to ..\\data\\raw\\1tki.pdb\n",
      "INFO:src.data.sources:Downloading https://files.rcsb.org/download/1f3m.pdb\n"
     ]
    },
    {
     "name": "stdout",
     "output_type": "stream",
     "text": [
      "  ✗ 1TKI: Too long: 642 > 300\n"
     ]
    },
    {
     "name": "stderr",
     "output_type": "stream",
     "text": [
      "INFO:src.data.sources:Saved PDB file to ..\\data\\raw\\1f3m.pdb\n",
      "INFO:src.data.sources:Downloading https://files.rcsb.org/download/1a82.pdb\n"
     ]
    },
    {
     "name": "stdout",
     "output_type": "stream",
     "text": [
      "  ✗ 1F3M: Too long: 712 > 300\n"
     ]
    },
    {
     "name": "stderr",
     "output_type": "stream",
     "text": [
      "INFO:src.data.sources:Saved PDB file to ..\\data\\raw\\1a82.pdb\n",
      "INFO:src.data.sources:Downloading https://files.rcsb.org/download/1ca1.pdb\n"
     ]
    },
    {
     "name": "stdout",
     "output_type": "stream",
     "text": [
      "  ✓ 1A82: 1.8Å, 224aa\n",
      "  → Added 5 proteins to EC 2\n",
      "\n",
      "EC 3 (Hydrolases):\n",
      "  Current: 9, Target: 8, Need: 0\n",
      "\n",
      "EC 4 (Lyases):\n",
      "  Current: 3, Target: 8, Need: 5\n"
     ]
    },
    {
     "name": "stderr",
     "output_type": "stream",
     "text": [
      "INFO:src.data.sources:Saved PDB file to ..\\data\\raw\\1ca1.pdb\n",
      "INFO:src.data.sources:Downloading https://files.rcsb.org/download/1a1c.pdb\n"
     ]
    },
    {
     "name": "stdout",
     "output_type": "stream",
     "text": [
      "  ✗ 1CA1: Too long: 370 > 300\n"
     ]
    },
    {
     "name": "stderr",
     "output_type": "stream",
     "text": [
      "INFO:src.data.sources:Saved PDB file to ..\\data\\raw\\1a1c.pdb\n",
      "INFO:src.data.sources:Downloading https://files.rcsb.org/download/1o5k.pdb\n"
     ]
    },
    {
     "name": "stdout",
     "output_type": "stream",
     "text": [
      "  ✓ 1A1C: 2.4Å, 211aa\n"
     ]
    },
    {
     "name": "stderr",
     "output_type": "stream",
     "text": [
      "INFO:src.data.sources:Saved PDB file to ..\\data\\raw\\1o5k.pdb\n",
      "INFO:src.data.sources:Downloading https://files.rcsb.org/download/1qpb.pdb\n"
     ]
    },
    {
     "name": "stdout",
     "output_type": "stream",
     "text": [
      "  ✗ 1O5K: Too long: 588 > 300\n"
     ]
    },
    {
     "name": "stderr",
     "output_type": "stream",
     "text": [
      "INFO:src.data.sources:Saved PDB file to ..\\data\\raw\\1qpb.pdb\n",
      "INFO:src.data.sources:Downloading https://files.rcsb.org/download/1hka.pdb\n"
     ]
    },
    {
     "name": "stdout",
     "output_type": "stream",
     "text": [
      "  ✗ 1QPB: Too long: 1110 > 300\n"
     ]
    },
    {
     "name": "stderr",
     "output_type": "stream",
     "text": [
      "INFO:src.data.sources:Saved PDB file to ..\\data\\raw\\1hka.pdb\n",
      "INFO:src.data.sources:Downloading https://files.rcsb.org/download/1h74.pdb\n"
     ]
    },
    {
     "name": "stdout",
     "output_type": "stream",
     "text": [
      "  ✓ 1HKA: 1.5Å, 158aa\n"
     ]
    },
    {
     "name": "stderr",
     "output_type": "stream",
     "text": [
      "INFO:src.data.sources:Saved PDB file to ..\\data\\raw\\1h74.pdb\n",
      "INFO:src.data.sources:Downloading https://files.rcsb.org/download/1via.pdb\n"
     ]
    },
    {
     "name": "stdout",
     "output_type": "stream",
     "text": [
      "  ✗ 1H74: Too long: 1184 > 300\n"
     ]
    },
    {
     "name": "stderr",
     "output_type": "stream",
     "text": [
      "INFO:src.data.sources:Saved PDB file to ..\\data\\raw\\1via.pdb\n",
      "INFO:src.data.sources:Downloading https://files.rcsb.org/download/1zin.pdb\n"
     ]
    },
    {
     "name": "stdout",
     "output_type": "stream",
     "text": [
      "  ✗ 1VIA: Too long: 311 > 300\n"
     ]
    },
    {
     "name": "stderr",
     "output_type": "stream",
     "text": [
      "INFO:src.data.sources:Saved PDB file to ..\\data\\raw\\1zin.pdb\n",
      "INFO:src.data.sources:Downloading https://files.rcsb.org/download/1d2a.pdb\n"
     ]
    },
    {
     "name": "stdout",
     "output_type": "stream",
     "text": [
      "  ✓ 1ZIN: 1.6Å, 217aa\n"
     ]
    },
    {
     "name": "stderr",
     "output_type": "stream",
     "text": [
      "INFO:src.data.sources:Saved PDB file to ..\\data\\raw\\1d2a.pdb\n",
      "INFO:src.data.sources:Downloading https://files.rcsb.org/download/1ldm.pdb\n"
     ]
    },
    {
     "name": "stdout",
     "output_type": "stream",
     "text": [
      "  ✗ 1D2A: Too long: 312 > 300\n"
     ]
    },
    {
     "name": "stderr",
     "output_type": "stream",
     "text": [
      "INFO:src.data.sources:Saved PDB file to ..\\data\\raw\\1ldm.pdb\n",
      "INFO:src.data.sources:Downloading https://files.rcsb.org/download/1thf.pdb\n"
     ]
    },
    {
     "name": "stdout",
     "output_type": "stream",
     "text": [
      "  ✗ 1LDM: Too long: 329 > 300\n"
     ]
    },
    {
     "name": "stderr",
     "output_type": "stream",
     "text": [
      "INFO:src.data.sources:Saved PDB file to ..\\data\\raw\\1thf.pdb\n",
      "INFO:src.data.sources:Downloading https://files.rcsb.org/download/1n6r.pdb\n"
     ]
    },
    {
     "name": "stdout",
     "output_type": "stream",
     "text": [
      "  ✓ 1THF: 1.45Å, 253aa\n"
     ]
    },
    {
     "name": "stderr",
     "output_type": "stream",
     "text": [
      "INFO:src.data.sources:Saved PDB file to ..\\data\\raw\\1n6r.pdb\n",
      "INFO:src.data.sources:Downloading https://files.rcsb.org/download/1c8y.pdb\n"
     ]
    },
    {
     "name": "stdout",
     "output_type": "stream",
     "text": [
      "  ✓ 1N6R: 1.55Å, 167aa\n",
      "  → Added 5 proteins to EC 4\n",
      "\n",
      "EC 5 (Isomerases):\n",
      "  Current: 1, Target: 8, Need: 7\n"
     ]
    },
    {
     "name": "stderr",
     "output_type": "stream",
     "text": [
      "INFO:src.data.sources:Saved PDB file to ..\\data\\raw\\1c8y.pdb\n",
      "INFO:src.data.sources:Downloading https://files.rcsb.org/download/1d4o.pdb\n"
     ]
    },
    {
     "name": "stdout",
     "output_type": "stream",
     "text": [
      "  ✓ 1C8Y: 2.0Å, 265aa\n"
     ]
    },
    {
     "name": "stderr",
     "output_type": "stream",
     "text": [
      "INFO:src.data.sources:Saved PDB file to ..\\data\\raw\\1d4o.pdb\n",
      "INFO:src.data.sources:Downloading https://files.rcsb.org/download/1dqr.pdb\n"
     ]
    },
    {
     "name": "stdout",
     "output_type": "stream",
     "text": [
      "  ✓ 1D4O: 1.21Å, 177aa\n"
     ]
    },
    {
     "name": "stderr",
     "output_type": "stream",
     "text": [
      "INFO:src.data.sources:Saved PDB file to ..\\data\\raw\\1dqr.pdb\n",
      "INFO:src.data.sources:Downloading https://files.rcsb.org/download/1m4j.pdb\n"
     ]
    },
    {
     "name": "stdout",
     "output_type": "stream",
     "text": [
      "  ✗ 1DQR: Too long: 1110 > 300\n"
     ]
    },
    {
     "name": "stderr",
     "output_type": "stream",
     "text": [
      "INFO:src.data.sources:Saved PDB file to ..\\data\\raw\\1m4j.pdb\n",
      "INFO:src.data.sources:Downloading https://files.rcsb.org/download/1u4s.pdb\n"
     ]
    },
    {
     "name": "stdout",
     "output_type": "stream",
     "text": [
      "  ✓ 1M4J: 1.6Å, 266aa\n"
     ]
    },
    {
     "name": "stderr",
     "output_type": "stream",
     "text": [
      "INFO:src.data.sources:Saved PDB file to ..\\data\\raw\\1u4s.pdb\n",
      "INFO:src.data.sources:Downloading https://files.rcsb.org/download/1vj8.pdb\n"
     ]
    },
    {
     "name": "stdout",
     "output_type": "stream",
     "text": [
      "  ✗ 1U4S: Too long: 307 > 300\n"
     ]
    },
    {
     "name": "stderr",
     "output_type": "stream",
     "text": [
      "INFO:src.data.sources:Downloading https://files.rcsb.org/download/1vj8.pdb\n",
      "INFO:src.data.sources:Downloading https://files.rcsb.org/download/1x81.pdb\n"
     ]
    },
    {
     "name": "stdout",
     "output_type": "stream",
     "text": [
      "  ✗ 1VJ8: Failed to download PDB: 1\n"
     ]
    },
    {
     "name": "stderr",
     "output_type": "stream",
     "text": [
      "INFO:src.data.sources:Saved PDB file to ..\\data\\raw\\1x81.pdb\n",
      "INFO:src.data.sources:Downloading https://files.rcsb.org/download/2fbp.pdb\n"
     ]
    },
    {
     "name": "stdout",
     "output_type": "stream",
     "text": [
      "  ✗ 1X81: Resolution 3.5 > 2.5\n"
     ]
    },
    {
     "name": "stderr",
     "output_type": "stream",
     "text": [
      "INFO:src.data.sources:Saved PDB file to ..\\data\\raw\\2fbp.pdb\n",
      "INFO:src.data.sources:Downloading https://files.rcsb.org/download/1k6m.pdb\n"
     ]
    },
    {
     "name": "stdout",
     "output_type": "stream",
     "text": [
      "  ✗ 2FBP: Resolution 2.8 > 2.5\n"
     ]
    },
    {
     "name": "stderr",
     "output_type": "stream",
     "text": [
      "INFO:src.data.sources:Saved PDB file to ..\\data\\raw\\1k6m.pdb\n",
      "INFO:src.data.sources:Downloading https://files.rcsb.org/download/1tip.pdb\n"
     ]
    },
    {
     "name": "stdout",
     "output_type": "stream",
     "text": [
      "  ✗ 1K6M: Too long: 864 > 300\n"
     ]
    },
    {
     "name": "stderr",
     "output_type": "stream",
     "text": [
      "INFO:src.data.sources:Saved PDB file to ..\\data\\raw\\1tip.pdb\n",
      "INFO:src.data.sources:Downloading https://files.rcsb.org/download/1s9d.pdb\n"
     ]
    },
    {
     "name": "stdout",
     "output_type": "stream",
     "text": [
      "  ✗ 1TIP: Too long: 380 > 300\n"
     ]
    },
    {
     "name": "stderr",
     "output_type": "stream",
     "text": [
      "INFO:src.data.sources:Saved PDB file to ..\\data\\raw\\1s9d.pdb\n",
      "INFO:src.data.sources:Downloading https://files.rcsb.org/download/1hof.pdb\n"
     ]
    },
    {
     "name": "stdout",
     "output_type": "stream",
     "text": [
      "  ✗ 1S9D: Too long: 347 > 300\n"
     ]
    },
    {
     "name": "stderr",
     "output_type": "stream",
     "text": [
      "INFO:src.data.sources:Saved PDB file to ..\\data\\raw\\1hof.pdb\n",
      "INFO:src.data.sources:Downloading https://files.rcsb.org/download/4tim.pdb\n"
     ]
    },
    {
     "name": "stdout",
     "output_type": "stream",
     "text": [
      "  ✗ 1HOF: Resolution None > 2.5\n"
     ]
    },
    {
     "name": "stderr",
     "output_type": "stream",
     "text": [
      "INFO:src.data.sources:Saved PDB file to ..\\data\\raw\\4tim.pdb\n",
      "INFO:src.data.sources:Downloading https://files.rcsb.org/download/2tpi.pdb\n"
     ]
    },
    {
     "name": "stdout",
     "output_type": "stream",
     "text": [
      "  ✗ 4TIM: Too long: 498 > 300\n"
     ]
    },
    {
     "name": "stderr",
     "output_type": "stream",
     "text": [
      "INFO:src.data.sources:Saved PDB file to ..\\data\\raw\\2tpi.pdb\n",
      "INFO:src.data.sources:Downloading https://files.rcsb.org/download/3tms.pdb\n"
     ]
    },
    {
     "name": "stdout",
     "output_type": "stream",
     "text": [
      "  ✓ 2TPI: 2.1Å, 277aa\n"
     ]
    },
    {
     "name": "stderr",
     "output_type": "stream",
     "text": [
      "INFO:src.data.sources:Saved PDB file to ..\\data\\raw\\3tms.pdb\n",
      "INFO:src.data.sources:Downloading https://files.rcsb.org/download/1y7t.pdb\n"
     ]
    },
    {
     "name": "stdout",
     "output_type": "stream",
     "text": [
      "  ✓ 3TMS: 2.1Å, 264aa\n"
     ]
    },
    {
     "name": "stderr",
     "output_type": "stream",
     "text": [
      "INFO:src.data.sources:Saved PDB file to ..\\data\\raw\\1y7t.pdb\n",
      "INFO:src.data.sources:Downloading https://files.rcsb.org/download/1b3a.pdb\n"
     ]
    },
    {
     "name": "stdout",
     "output_type": "stream",
     "text": [
      "  ✗ 1Y7T: Too long: 654 > 300\n"
     ]
    },
    {
     "name": "stderr",
     "output_type": "stream",
     "text": [
      "INFO:src.data.sources:Saved PDB file to ..\\data\\raw\\1b3a.pdb\n",
      "INFO:src.data.sources:Downloading https://files.rcsb.org/download/1a5z.pdb\n"
     ]
    },
    {
     "name": "stdout",
     "output_type": "stream",
     "text": [
      "  ✓ 1B3A: 1.6Å, 134aa\n"
     ]
    },
    {
     "name": "stderr",
     "output_type": "stream",
     "text": [
      "INFO:src.data.sources:Saved PDB file to ..\\data\\raw\\1a5z.pdb\n",
      "INFO:src.data.sources:Downloading https://files.rcsb.org/download/1gg5.pdb\n"
     ]
    },
    {
     "name": "stdout",
     "output_type": "stream",
     "text": [
      "  ✗ 1A5Z: Too long: 312 > 300\n"
     ]
    },
    {
     "name": "stderr",
     "output_type": "stream",
     "text": [
      "INFO:src.data.sources:Saved PDB file to ..\\data\\raw\\1gg5.pdb\n",
      "INFO:src.data.sources:Downloading https://files.rcsb.org/download/1nsy.pdb\n"
     ]
    },
    {
     "name": "stdout",
     "output_type": "stream",
     "text": [
      "  ✗ 1GG5: Too long: 1092 > 300\n"
     ]
    },
    {
     "name": "stderr",
     "output_type": "stream",
     "text": [
      "INFO:src.data.sources:Saved PDB file to ..\\data\\raw\\1nsy.pdb\n",
      "INFO:src.data.sources:Downloading https://files.rcsb.org/download/1tre.pdb\n"
     ]
    },
    {
     "name": "stdout",
     "output_type": "stream",
     "text": [
      "  ✗ 1NSY: Too long: 542 > 300\n"
     ]
    },
    {
     "name": "stderr",
     "output_type": "stream",
     "text": [
      "INFO:src.data.sources:Saved PDB file to ..\\data\\raw\\1tre.pdb\n",
      "INFO:src.data.sources:Downloading https://files.rcsb.org/download/1j49.pdb\n"
     ]
    },
    {
     "name": "stdout",
     "output_type": "stream",
     "text": [
      "  ✗ 1TRE: Resolution 2.6 > 2.5\n"
     ]
    },
    {
     "name": "stderr",
     "output_type": "stream",
     "text": [
      "INFO:src.data.sources:Saved PDB file to ..\\data\\raw\\1j49.pdb\n",
      "INFO:src.data.sources:Downloading https://files.rcsb.org/download/1ios.pdb\n"
     ]
    },
    {
     "name": "stdout",
     "output_type": "stream",
     "text": [
      "  ✗ 1J49: Too long: 664 > 300\n"
     ]
    },
    {
     "name": "stderr",
     "output_type": "stream",
     "text": [
      "INFO:src.data.sources:Saved PDB file to ..\\data\\raw\\1ios.pdb\n",
      "INFO:src.data.dataset:Saved 117 proteins to registry\n"
     ]
    },
    {
     "name": "stdout",
     "output_type": "stream",
     "text": [
      "  ✓ 1IOS: 1.76Å, 129aa\n",
      "  → Added 7 proteins to EC 5\n",
      "\n",
      "======================================================================\n",
      "FINAL DATASET ANALYSIS\n",
      "======================================================================\n",
      "Total valid proteins: 46\n",
      "Target: 40\n",
      "Progress: 115.0%\n",
      "\n",
      "EC Class Distribution:\n",
      "  EC 1 (Oxidoreductases):  6 proteins (13.0%) ✓\n",
      "  EC 2 (Transferases   ):  8 proteins (17.4%) ✓✓\n",
      "  EC 3 (Hydrolases     ): 11 proteins (23.9%) ✓✓\n",
      "  EC 4 (Lyases         ):  4 proteins ( 8.7%) ⚠\n",
      "  EC 5 (Isomerases     ):  1 proteins ( 2.2%) ⚠\n",
      "\n",
      "Quality Metrics:\n",
      "  Average resolution: 1.85 Å\n",
      "  Resolution range: 1.1 - 2.4 Å\n",
      "  Average length: 195 amino acids\n",
      "  Length range: 58 - 297 amino acids\n",
      "\n",
      "Dataset Assessment:\n",
      "  Minimum class size: 1 proteins\n",
      "  📊 BUILDING: Consider expanding underrepresented classes\n",
      "\n",
      "🎯 RECOMMENDATION: ⚠ CONSIDER ADDING MORE PROTEINS\n",
      "\n",
      "--- NEXT STEPS ---\n",
      "1. ✓ Data collection phase complete\n",
      "2. → Proceed to 02_feature_extraction.ipynb\n",
      "3. → Begin extracting sequence and structural features\n",
      "4. → Train ML models on collected dataset\n",
      "\n",
      "Files created:\n",
      "  Registry: ..\\data\\processed\\protein_registry.json\n",
      "  PDB cache: ..\\data\\raw\n"
     ]
    }
   ],
   "source": [
    "# Comprehensive Protein Collection and Dataset Building\n",
    "import time\n",
    "import random\n",
    "from collections import defaultdict\n",
    "\n",
    "# Configuration\n",
    "TARGET_TOTAL_PROTEINS = 40\n",
    "TARGET_PER_EC_CLASS = 8\n",
    "MAX_PROTEINS_TO_TEST = 100  # Don't test forever\n",
    "\n",
    "print(\"=\"*70)\n",
    "print(\"COMPREHENSIVE PROTEIN DATASET COLLECTION\")\n",
    "print(\"=\"*70)\n",
    "print(f\"Target: {TARGET_TOTAL_PROTEINS} total proteins ({TARGET_PER_EC_CLASS} per EC class)\")\n",
    "print(f\"Starting with: {len(registry.get_valid_proteins())} valid proteins\")\n",
    "\n",
    "# Comprehensive protein candidates by EC class\n",
    "protein_candidates = {\n",
    "    \"1\": [  # Oxidoreductases\n",
    "        \"1gox\", \"1go3\", \"2dox\", \"1hxn\", \"1ldh\", \"1mdr\", \"1adc\", \"3ccp\", \"1ycc\", \"1fcb\",\n",
    "        \"1b0z\", \"1c7d\", \"1dhr\", \"1e79\", \"1f8a\", \"1ged\", \"1h6v\", \"1hdc\", \"1hdy\", \"1iba\",\n",
    "        \"1lbu\", \"1mor\", \"1mro\", \"1nox\", \"1p4c\", \"1q7b\", \"1qor\", \"1r37\", \"1rcy\", \"1s3b\",\n",
    "        \"1sez\", \"1t2d\", \"1u8s\", \"1uzn\", \"1wxd\", \"1yqg\", \"2acy\", \"2b5e\", \"2cmd\", \"2euc\"\n",
    "    ],\n",
    "    \"2\": [  # Transferases  \n",
    "        \"1hmt\", \"1cmt\", \"1ask\", \"1phk\", \"1cdk\", \"1atr\", \"1aat\", \"2aat\", \"1krs\",\n",
    "        \"1a49\", \"1a82\", \"1apm\", \"1bx7\", \"1byg\", \"1c1h\", \"1cjk\", \"1ckp\", \"1dak\", \"1e2m\",\n",
    "        \"1f3m\", \"1fzp\", \"1g3n\", \"1gmh\", \"1hck\", \"1ir3\", \"1jnk\", \"1kkd\", \"1lpg\", \"1med\",\n",
    "        \"1nhk\", \"1o6l\", \"1phk\", \"1qcf\", \"1rob\", \"1stc\", \"1tki\", \"1urw\", \"1vie\", \"1w0k\"\n",
    "    ],\n",
    "    \"3\": [  # Hydrolases (already have some lysozymes)\n",
    "        \"1ppo\", \"1pla\", \"1cna\", \"1rnt\", \"1rnb\", \"1ctn\", \"1try\", \"1ela\", \"1ppn\", \"1lyc\",\n",
    "        \"1a0o\", \"1a8d\", \"1acb\", \"1brc\", \"1bt1\", \"1cbx\", \"1cho\", \"1cnv\", \"1cse\", \"1ctr\",\n",
    "        \"1dpo\", \"1ede\", \"1est\", \"1gci\", \"1hne\", \"1hpg\", \"1hyt\", \"1lst\", \"1mfp\", \"1nln\",\n",
    "        \"1pek\", \"1pnk\", \"1qnj\", \"1ton\", \"1tqh\", \"1ugh\", \"1w52\", \"1xnb\", \"2est\", \"2ptn\"\n",
    "    ],\n",
    "    \"4\": [  # Lyases\n",
    "        \"1ca2\", \"1ca3\", \"1eno\", \"1pyk\", \"1ald\", \"1fba\", \"1tpi\", \"1pgk\",\n",
    "        \"1a1c\", \"1amk\", \"1b7g\", \"1bq3\", \"1ca1\", \"1d2a\", \"1gd1\", \"1h74\", \"1hka\", \"1i0z\",\n",
    "        \"1j39\", \"1ldm\", \"1loc\", \"1ml4\", \"1n6r\", \"1o5k\", \"1p7z\", \"1pii\", \"1qpb\", \"1rbo\",\n",
    "        \"1thf\", \"1tqx\", \"1via\", \"1w85\", \"1x7z\", \"1ydv\", \"1zin\", \"2ald\", \"2dkn\", \"3enl\"\n",
    "    ],\n",
    "    \"5\": [  # Isomerases\n",
    "        \"1tim\", \"1a5z\", \"1b3a\", \"1c8y\", \"1d4o\", \"1dqr\", \"1e9h\", \"1gg5\", \"1hof\", \"1ios\",\n",
    "        \"1j49\", \"1k6m\", \"1l6s\", \"1m4j\", \"1nsy\", \"1p4j\", \"1qmg\", \"1rds\", \"1s9d\", \"1tip\",\n",
    "        \"1tre\", \"1u4s\", \"1vj8\", \"1x81\", \"1y7t\", \"2fbp\", \"2tpi\", \"3tms\", \"4tim\"\n",
    "    ]\n",
    "}\n",
    "\n",
    "# Add initial test proteins\n",
    "initial_proteins = [\"1lyz\", \"1crn\", \"1ubq\", \"1bpi\", \"2ci2\", \"1rbp\"]\n",
    "\n",
    "# Helper function for EC classification\n",
    "def classify_protein_by_name(protein_id, description):\n",
    "    \"\"\"Classify protein by EC class based on ID and description.\"\"\"\n",
    "    protein_id = protein_id.lower()\n",
    "    description = description.lower()\n",
    "    \n",
    "    # EC classification patterns\n",
    "    ec_patterns = {\n",
    "        \"1\": ['dh', 'dehydrogenase', 'oxidase', 'reductase', 'cytochrome', 'gox', 'adh', 'ldh'],\n",
    "        \"2\": ['kinase', 'transferase', 'synthetase', 'hmt', 'ask', 'pyk', 'aat'],\n",
    "        \"3\": ['lyz', 'lysozyme', 'trypsin', 'chymotrypsin', 'elastase', 'pepsin', 'nuclease', 'lipase', 'protease'],\n",
    "        \"4\": ['ca', 'carbonic', 'anhydrase', 'aldolase', 'enolase', 'lyase'],\n",
    "        \"5\": ['isomerase', 'tim', 'tpi']\n",
    "    }\n",
    "    \n",
    "    for ec_class, patterns in ec_patterns.items():\n",
    "        if any(pattern in protein_id or pattern in description for pattern in patterns):\n",
    "            return ec_class\n",
    "    return \"Unknown\"\n",
    "\n",
    "# Stage 1: Add initial test proteins\n",
    "print(\"\\n--- STAGE 1: TESTING INITIAL PROTEINS ---\")\n",
    "for protein_id in initial_proteins:\n",
    "    if protein_id.lower() not in registry.proteins:\n",
    "        try:\n",
    "            evaluation = registry.add_protein(protein_id)\n",
    "            status = \"✓\" if evaluation[\"meets_criteria\"] else \"✗\"\n",
    "            print(f\"{status} {protein_id.upper()}\")\n",
    "        except:\n",
    "            print(f\"✗ {protein_id.upper()} - Error\")\n",
    "\n",
    "# Stage 2: Strategic collection by EC class\n",
    "print(\"\\n--- STAGE 2: STRATEGIC COLLECTION BY EC CLASS ---\")\n",
    "\n",
    "ec_names = {\n",
    "    \"1\": \"Oxidoreductases\", \"2\": \"Transferases\", \"3\": \"Hydrolases\", \n",
    "    \"4\": \"Lyases\", \"5\": \"Isomerases\"\n",
    "}\n",
    "\n",
    "proteins_tested = 0\n",
    "for ec_class in [\"1\", \"2\", \"3\", \"4\", \"5\"]:\n",
    "    if proteins_tested >= MAX_PROTEINS_TO_TEST:\n",
    "        break\n",
    "        \n",
    "    print(f\"\\nEC {ec_class} ({ec_names[ec_class]}):\")\n",
    "    \n",
    "    # Count current proteins in this class\n",
    "    current_valid = registry.get_valid_proteins()\n",
    "    current_in_class = 0\n",
    "    for pid, info in current_valid.items():\n",
    "        description = info.get('function_info', {}).get('description', '')\n",
    "        if classify_protein_by_name(pid, description) == ec_class:\n",
    "            current_in_class += 1\n",
    "    \n",
    "    needed = max(0, TARGET_PER_EC_CLASS - current_in_class)\n",
    "    print(f\"  Current: {current_in_class}, Target: {TARGET_PER_EC_CLASS}, Need: {needed}\")\n",
    "    \n",
    "    if needed == 0:\n",
    "        continue\n",
    "    \n",
    "    # Test proteins for this EC class\n",
    "    candidates = protein_candidates.get(ec_class, [])\n",
    "    random.shuffle(candidates)  # Randomize order\n",
    "    \n",
    "    added_to_class = 0\n",
    "    for protein_id in candidates:\n",
    "        if added_to_class >= needed or proteins_tested >= MAX_PROTEINS_TO_TEST:\n",
    "            break\n",
    "            \n",
    "        if protein_id.lower() in registry.proteins:\n",
    "            continue\n",
    "            \n",
    "        try:\n",
    "            evaluation = registry.add_protein(protein_id)\n",
    "            proteins_tested += 1\n",
    "            \n",
    "            if evaluation[\"meets_criteria\"]:\n",
    "                added_to_class += 1\n",
    "                validation = evaluation.get(\"validation_info\", {})\n",
    "                res = validation.get('resolution', 'N/A')\n",
    "                length = validation.get('amino_acid_count', 'N/A')\n",
    "                print(f\"  ✓ {protein_id.upper()}: {res}Å, {length}aa\")\n",
    "            else:\n",
    "                reason = evaluation.get(\"validation_info\", {}).get(\"reason\", \n",
    "                        evaluation.get(\"error\", \"Unknown\"))[:25]\n",
    "                print(f\"  ✗ {protein_id.upper()}: {reason}\")\n",
    "                \n",
    "        except Exception as e:\n",
    "            print(f\"  ✗ {protein_id.upper()}: Error\")\n",
    "            proteins_tested += 1\n",
    "        \n",
    "        time.sleep(0.1)\n",
    "    \n",
    "    print(f\"  → Added {added_to_class} proteins to EC {ec_class}\")\n",
    "\n",
    "# Save all results\n",
    "registry.save_registry()\n",
    "\n",
    "# Final Analysis\n",
    "print(\"\\n\" + \"=\"*70)\n",
    "print(\"FINAL DATASET ANALYSIS\")\n",
    "print(\"=\"*70)\n",
    "\n",
    "valid_proteins = registry.get_valid_proteins()\n",
    "total_valid = len(valid_proteins)\n",
    "\n",
    "# EC class distribution\n",
    "ec_distribution = defaultdict(list)\n",
    "for protein_id, info in valid_proteins.items():\n",
    "    description = info.get('function_info', {}).get('description', '')\n",
    "    ec_class = classify_protein_by_name(protein_id, description)\n",
    "    if ec_class != \"Unknown\":\n",
    "        ec_distribution[ec_class].append(protein_id)\n",
    "\n",
    "print(f\"Total valid proteins: {total_valid}\")\n",
    "print(f\"Target: {TARGET_TOTAL_PROTEINS}\")\n",
    "print(f\"Progress: {(total_valid/TARGET_TOTAL_PROTEINS)*100:.1f}%\")\n",
    "\n",
    "print(f\"\\nEC Class Distribution:\")\n",
    "for ec_class in [\"1\", \"2\", \"3\", \"4\", \"5\"]:\n",
    "    count = len(ec_distribution[ec_class])\n",
    "    percentage = (count / total_valid) * 100 if total_valid > 0 else 0\n",
    "    status = \"✓✓\" if count >= TARGET_PER_EC_CLASS else \"✓\" if count >= 5 else \"⚠\"\n",
    "    print(f\"  EC {ec_class} ({ec_names[ec_class]:15s}): {count:2d} proteins ({percentage:4.1f}%) {status}\")\n",
    "\n",
    "# Quality metrics\n",
    "resolutions = [p.get('validation_info', {}).get('resolution', 0) \n",
    "              for p in valid_proteins.values() \n",
    "              if p.get('validation_info', {}).get('resolution')]\n",
    "\n",
    "lengths = [p.get('validation_info', {}).get('amino_acid_count', 0) \n",
    "          for p in valid_proteins.values() \n",
    "          if p.get('validation_info', {}).get('amino_acid_count')]\n",
    "\n",
    "if resolutions and lengths:\n",
    "    print(f\"\\nQuality Metrics:\")\n",
    "    print(f\"  Average resolution: {sum(resolutions)/len(resolutions):.2f} Å\")\n",
    "    print(f\"  Resolution range: {min(resolutions):.1f} - {max(resolutions):.1f} Å\")\n",
    "    print(f\"  Average length: {sum(lengths)/len(lengths):.0f} amino acids\")\n",
    "    print(f\"  Length range: {min(lengths)} - {max(lengths)} amino acids\")\n",
    "\n",
    "# Final recommendation\n",
    "balance_score = min([len(ec_distribution[ec]) for ec in [\"1\", \"2\", \"3\", \"4\", \"5\"]])\n",
    "print(f\"\\nDataset Assessment:\")\n",
    "print(f\"  Minimum class size: {balance_score} proteins\")\n",
    "\n",
    "if total_valid >= TARGET_TOTAL_PROTEINS and balance_score >= 6:\n",
    "    print(\"  📊 EXCELLENT: Target achieved! Robust dataset ready for analysis\")\n",
    "    recommendation = \"✅ PROCEED TO FEATURE EXTRACTION\"\n",
    "elif total_valid >= 30 and balance_score >= 4:\n",
    "    print(\"  📊 VERY GOOD: Strong dataset for reliable results\")\n",
    "    recommendation = \"✅ PROCEED TO FEATURE EXTRACTION\"\n",
    "elif total_valid >= 20 and balance_score >= 3:\n",
    "    print(\"  📊 GOOD: Sufficient for proof-of-concept analysis\")\n",
    "    recommendation = \"✅ CAN PROCEED TO FEATURE EXTRACTION\"\n",
    "else:\n",
    "    print(\"  📊 BUILDING: Consider expanding underrepresented classes\")\n",
    "    recommendation = \"⚠ CONSIDER ADDING MORE PROTEINS\"\n",
    "\n",
    "print(f\"\\n🎯 RECOMMENDATION: {recommendation}\")\n",
    "print(f\"\\n--- NEXT STEPS ---\")\n",
    "print(f\"1. ✓ Data collection phase complete\")\n",
    "print(f\"2. → Proceed to 02_feature_extraction.ipynb\")\n",
    "print(f\"3. → Begin extracting sequence and structural features\")\n",
    "print(f\"4. → Train ML models on collected dataset\")\n",
    "\n",
    "print(f\"\\nFiles created:\")\n",
    "print(f\"  Registry: {registry.registry_file}\")\n",
    "print(f\"  PDB cache: {registry.data_source.cache_dir}\")"
   ]
  },
  {
   "cell_type": "code",
   "execution_count": 35,
   "metadata": {},
   "outputs": [
    {
     "name": "stderr",
     "output_type": "stream",
     "text": [
      "INFO:src.data.sources:Downloading https://files.rcsb.org/download/1ca4.pdb\n"
     ]
    },
    {
     "name": "stdout",
     "output_type": "stream",
     "text": [
      "=== BALANCING EC CLASSES ===\n",
      "Current imbalance detected:\n",
      "  EC 4 (Lyases): 4 proteins - need 4 more\n",
      "  EC 5 (Isomerases): 1 protein - need 6-7 more\n",
      "\n",
      "Focusing search on underrepresented classes...\n",
      "\n",
      "EC 4 (Lyases) - need 4 more proteins:\n",
      "  Testing 1CA4... "
     ]
    },
    {
     "name": "stderr",
     "output_type": "stream",
     "text": [
      "INFO:src.data.sources:Saved PDB file to ..\\data\\raw\\1ca4.pdb\n",
      "INFO:src.data.sources:Downloading https://files.rcsb.org/download/1ca7.pdb\n"
     ]
    },
    {
     "name": "stdout",
     "output_type": "stream",
     "text": [
      "✗ Too long: 1008 > 300\n",
      "  Testing 1CA7... "
     ]
    },
    {
     "name": "stderr",
     "output_type": "stream",
     "text": [
      "INFO:src.data.sources:Saved PDB file to ..\\data\\raw\\1ca7.pdb\n",
      "INFO:src.data.sources:Downloading https://files.rcsb.org/download/1cah.pdb\n"
     ]
    },
    {
     "name": "stdout",
     "output_type": "stream",
     "text": [
      "✗ Too long: 342 > 300\n",
      "  Testing 1CAH... "
     ]
    },
    {
     "name": "stderr",
     "output_type": "stream",
     "text": [
      "INFO:src.data.sources:Saved PDB file to ..\\data\\raw\\1cah.pdb\n",
      "INFO:src.data.sources:Downloading https://files.rcsb.org/download/1can.pdb\n"
     ]
    },
    {
     "name": "stdout",
     "output_type": "stream",
     "text": [
      "✓ ADDED (1.88Å, 258aa)\n",
      "  Testing 1CAN... "
     ]
    },
    {
     "name": "stderr",
     "output_type": "stream",
     "text": [
      "INFO:src.data.sources:Saved PDB file to ..\\data\\raw\\1can.pdb\n",
      "INFO:src.data.sources:Downloading https://files.rcsb.org/download/1caz.pdb\n"
     ]
    },
    {
     "name": "stdout",
     "output_type": "stream",
     "text": [
      "✓ ADDED (1.9Å, 259aa)\n",
      "  Testing 1CAZ... "
     ]
    },
    {
     "name": "stderr",
     "output_type": "stream",
     "text": [
      "INFO:src.data.sources:Saved PDB file to ..\\data\\raw\\1caz.pdb\n",
      "INFO:src.data.sources:Downloading https://files.rcsb.org/download/1cnc.pdb\n"
     ]
    },
    {
     "name": "stdout",
     "output_type": "stream",
     "text": [
      "✓ ADDED (1.9Å, 258aa)\n",
      "  Testing 1CNC... "
     ]
    },
    {
     "name": "stderr",
     "output_type": "stream",
     "text": [
      "INFO:src.data.sources:Saved PDB file to ..\\data\\raw\\1cnc.pdb\n",
      "INFO:src.data.sources:Downloading https://files.rcsb.org/download/1tri.pdb\n"
     ]
    },
    {
     "name": "stdout",
     "output_type": "stream",
     "text": [
      "✓ ADDED (2.2Å, 255aa)\n",
      "  → Successfully added 4 proteins to EC 4\n",
      "\n",
      "EC 5 (Isomerases) - need 6 more proteins:\n",
      "  Testing 1TRI... "
     ]
    },
    {
     "name": "stderr",
     "output_type": "stream",
     "text": [
      "INFO:src.data.sources:Saved PDB file to ..\\data\\raw\\1tri.pdb\n",
      "INFO:src.data.sources:Downloading https://files.rcsb.org/download/2tim.pdb\n"
     ]
    },
    {
     "name": "stdout",
     "output_type": "stream",
     "text": [
      "✓ ADDED (2.4Å, 239aa)\n",
      "  Testing 2TIM... "
     ]
    },
    {
     "name": "stderr",
     "output_type": "stream",
     "text": [
      "INFO:src.data.sources:Saved PDB file to ..\\data\\raw\\2tim.pdb\n",
      "INFO:src.data.sources:Downloading https://files.rcsb.org/download/3tim.pdb\n"
     ]
    },
    {
     "name": "stdout",
     "output_type": "stream",
     "text": [
      "✗ Too long: 498 > 300\n",
      "  Testing 3TIM... "
     ]
    },
    {
     "name": "stderr",
     "output_type": "stream",
     "text": [
      "INFO:src.data.sources:Saved PDB file to ..\\data\\raw\\3tim.pdb\n",
      "INFO:src.data.sources:Downloading https://files.rcsb.org/download/5tim.pdb\n"
     ]
    },
    {
     "name": "stdout",
     "output_type": "stream",
     "text": [
      "✗ Resolution 2.8 > 2.5\n",
      "  Testing 5TIM... "
     ]
    },
    {
     "name": "stderr",
     "output_type": "stream",
     "text": [
      "INFO:src.data.sources:Saved PDB file to ..\\data\\raw\\5tim.pdb\n",
      "INFO:src.data.sources:Downloading https://files.rcsb.org/download/6tim.pdb\n"
     ]
    },
    {
     "name": "stdout",
     "output_type": "stream",
     "text": [
      "✗ Too long: 498 > 300\n",
      "  Testing 6TIM... "
     ]
    },
    {
     "name": "stderr",
     "output_type": "stream",
     "text": [
      "INFO:src.data.sources:Saved PDB file to ..\\data\\raw\\6tim.pdb\n",
      "INFO:src.data.sources:Downloading https://files.rcsb.org/download/7tim.pdb\n"
     ]
    },
    {
     "name": "stdout",
     "output_type": "stream",
     "text": [
      "✗ Too long: 498 > 300\n",
      "  Testing 7TIM... "
     ]
    },
    {
     "name": "stderr",
     "output_type": "stream",
     "text": [
      "INFO:src.data.sources:Saved PDB file to ..\\data\\raw\\7tim.pdb\n",
      "INFO:src.data.sources:Downloading https://files.rcsb.org/download/8tim.pdb\n"
     ]
    },
    {
     "name": "stdout",
     "output_type": "stream",
     "text": [
      "✗ Too long: 494 > 300\n",
      "  Testing 8TIM... "
     ]
    },
    {
     "name": "stderr",
     "output_type": "stream",
     "text": [
      "INFO:src.data.sources:Saved PDB file to ..\\data\\raw\\8tim.pdb\n",
      "INFO:src.data.sources:Downloading https://files.rcsb.org/download/1tph.pdb\n"
     ]
    },
    {
     "name": "stdout",
     "output_type": "stream",
     "text": [
      "✗ Too long: 494 > 300\n",
      "  Testing 1TPH... "
     ]
    },
    {
     "name": "stderr",
     "output_type": "stream",
     "text": [
      "INFO:src.data.sources:Saved PDB file to ..\\data\\raw\\1tph.pdb\n",
      "INFO:src.data.sources:Downloading https://files.rcsb.org/download/1pgi.pdb\n"
     ]
    },
    {
     "name": "stdout",
     "output_type": "stream",
     "text": [
      "✗ Too long: 490 > 300\n",
      "  Testing 1PGI... "
     ]
    },
    {
     "name": "stderr",
     "output_type": "stream",
     "text": [
      "INFO:src.data.sources:Saved PDB file to ..\\data\\raw\\1pgi.pdb\n",
      "INFO:src.data.sources:Downloading https://files.rcsb.org/download/2pgi.pdb\n"
     ]
    },
    {
     "name": "stdout",
     "output_type": "stream",
     "text": [
      "✗ Resolution 3.5 > 2.5\n",
      "  Testing 2PGI... "
     ]
    },
    {
     "name": "stderr",
     "output_type": "stream",
     "text": [
      "INFO:src.data.sources:Saved PDB file to ..\\data\\raw\\2pgi.pdb\n",
      "INFO:src.data.sources:Downloading https://files.rcsb.org/download/3pgi.pdb\n"
     ]
    },
    {
     "name": "stdout",
     "output_type": "stream",
     "text": [
      "✗ Too long: 442 > 300\n",
      "  Testing 3PGI... "
     ]
    },
    {
     "name": "stderr",
     "output_type": "stream",
     "text": [
      "INFO:src.data.sources:Saved PDB file to ..\\data\\raw\\3pgi.pdb\n",
      "INFO:src.data.sources:Downloading https://files.rcsb.org/download/1dxo.pdb\n"
     ]
    },
    {
     "name": "stdout",
     "output_type": "stream",
     "text": [
      "✗ Too long: 330 > 300\n",
      "  Testing 1DXO... "
     ]
    },
    {
     "name": "stderr",
     "output_type": "stream",
     "text": [
      "INFO:src.data.sources:Saved PDB file to ..\\data\\raw\\1dxo.pdb\n",
      "INFO:src.data.sources:Downloading https://files.rcsb.org/download/1iri.pdb\n"
     ]
    },
    {
     "name": "stdout",
     "output_type": "stream",
     "text": [
      "✗ Too long: 1092 > 300\n",
      "  Testing 1IRI... "
     ]
    },
    {
     "name": "stderr",
     "output_type": "stream",
     "text": [
      "INFO:src.data.sources:Saved PDB file to ..\\data\\raw\\1iri.pdb\n",
      "INFO:src.data.sources:Downloading https://files.rcsb.org/download/1tml.pdb\n"
     ]
    },
    {
     "name": "stdout",
     "output_type": "stream",
     "text": [
      "✗ Too long: 2228 > 300\n",
      "  Testing 1TML... "
     ]
    },
    {
     "name": "stderr",
     "output_type": "stream",
     "text": [
      "INFO:src.data.sources:Saved PDB file to ..\\data\\raw\\1tml.pdb\n",
      "INFO:src.data.sources:Downloading https://files.rcsb.org/download/1b9b.pdb\n"
     ]
    },
    {
     "name": "stdout",
     "output_type": "stream",
     "text": [
      "✓ ADDED (1.8Å, 286aa)\n",
      "  Testing 1B9B... "
     ]
    },
    {
     "name": "stderr",
     "output_type": "stream",
     "text": [
      "INFO:src.data.sources:Saved PDB file to ..\\data\\raw\\1b9b.pdb\n",
      "INFO:src.data.sources:Downloading https://files.rcsb.org/download/1btm.pdb\n"
     ]
    },
    {
     "name": "stdout",
     "output_type": "stream",
     "text": [
      "✗ Resolution 2.85 > 2.5\n",
      "  Testing 1BTM... "
     ]
    },
    {
     "name": "stderr",
     "output_type": "stream",
     "text": [
      "INFO:src.data.sources:Saved PDB file to ..\\data\\raw\\1btm.pdb\n",
      "INFO:src.data.sources:Downloading https://files.rcsb.org/download/1i0z.pdb\n"
     ]
    },
    {
     "name": "stdout",
     "output_type": "stream",
     "text": [
      "✗ Resolution 2.8 > 2.5\n",
      "  Testing 1I0Z... "
     ]
    },
    {
     "name": "stderr",
     "output_type": "stream",
     "text": [
      "INFO:src.data.sources:Saved PDB file to ..\\data\\raw\\1i0z.pdb\n",
      "INFO:src.data.sources:Downloading https://files.rcsb.org/download/1req.pdb\n"
     ]
    },
    {
     "name": "stdout",
     "output_type": "stream",
     "text": [
      "✗ Too long: 664 > 300\n",
      "  Testing 1REQ... "
     ]
    },
    {
     "name": "stderr",
     "output_type": "stream",
     "text": [
      "INFO:src.data.sources:Saved PDB file to ..\\data\\raw\\1req.pdb\n",
      "INFO:src.data.sources:Downloading https://files.rcsb.org/download/1ydv.pdb\n"
     ]
    },
    {
     "name": "stdout",
     "output_type": "stream",
     "text": [
      "✗ Too long: 2695 > 300\n",
      "  Testing 1YDV... "
     ]
    },
    {
     "name": "stderr",
     "output_type": "stream",
     "text": [
      "INFO:src.data.sources:Saved PDB file to ..\\data\\raw\\1ydv.pdb\n",
      "INFO:src.data.sources:Downloading https://files.rcsb.org/download/1amm.pdb\n"
     ]
    },
    {
     "name": "stdout",
     "output_type": "stream",
     "text": [
      "✗ Too long: 492 > 300\n",
      "  Testing 1AMM... "
     ]
    },
    {
     "name": "stderr",
     "output_type": "stream",
     "text": [
      "INFO:src.data.sources:Saved PDB file to ..\\data\\raw\\1amm.pdb\n",
      "INFO:src.data.sources:Downloading https://files.rcsb.org/download/1mqi.pdb\n"
     ]
    },
    {
     "name": "stdout",
     "output_type": "stream",
     "text": [
      "✓ ADDED (1.2Å, 174aa)\n",
      "  Testing 1MQI... "
     ]
    },
    {
     "name": "stderr",
     "output_type": "stream",
     "text": [
      "INFO:src.data.sources:Saved PDB file to ..\\data\\raw\\1mqi.pdb\n",
      "INFO:src.data.sources:Downloading https://files.rcsb.org/download/1nsx.pdb\n"
     ]
    },
    {
     "name": "stdout",
     "output_type": "stream",
     "text": [
      "✓ ADDED (1.35Å, 260aa)\n",
      "  Testing 1NSX... "
     ]
    },
    {
     "name": "stderr",
     "output_type": "stream",
     "text": [
      "INFO:src.data.sources:Saved PDB file to ..\\data\\raw\\1nsx.pdb\n",
      "INFO:src.data.sources:Downloading https://files.rcsb.org/download/1qmg.pdb\n"
     ]
    },
    {
     "name": "stdout",
     "output_type": "stream",
     "text": [
      "✗ Too long: 685 > 300\n",
      "  Testing 1QMG... "
     ]
    },
    {
     "name": "stderr",
     "output_type": "stream",
     "text": [
      "INFO:src.data.sources:Saved PDB file to ..\\data\\raw\\1qmg.pdb\n",
      "INFO:src.data.sources:Downloading https://files.rcsb.org/download/1ggj.pdb\n"
     ]
    },
    {
     "name": "stdout",
     "output_type": "stream",
     "text": [
      "✗ Too long: 2049 > 300\n",
      "  Testing 1GGJ... "
     ]
    },
    {
     "name": "stderr",
     "output_type": "stream",
     "text": [
      "INFO:src.data.sources:Saved PDB file to ..\\data\\raw\\1ggj.pdb\n",
      "INFO:src.data.sources:Downloading https://files.rcsb.org/download/1h16.pdb\n"
     ]
    },
    {
     "name": "stdout",
     "output_type": "stream",
     "text": [
      "✗ Too long: 2908 > 300\n",
      "  Testing 1H16... "
     ]
    },
    {
     "name": "stderr",
     "output_type": "stream",
     "text": [
      "INFO:src.data.sources:Saved PDB file to ..\\data\\raw\\1h16.pdb\n",
      "INFO:src.data.sources:Downloading https://files.rcsb.org/download/1hti.pdb\n"
     ]
    },
    {
     "name": "stdout",
     "output_type": "stream",
     "text": [
      "✗ Too long: 759 > 300\n",
      "  Testing 1HTI... "
     ]
    },
    {
     "name": "stderr",
     "output_type": "stream",
     "text": [
      "INFO:src.data.sources:Saved PDB file to ..\\data\\raw\\1hti.pdb\n",
      "INFO:src.data.sources:Downloading https://files.rcsb.org/download/1iph.pdb\n"
     ]
    },
    {
     "name": "stdout",
     "output_type": "stream",
     "text": [
      "✗ Resolution 2.8 > 2.5\n",
      "  Testing 1IPH... "
     ]
    },
    {
     "name": "stderr",
     "output_type": "stream",
     "text": [
      "INFO:src.data.sources:Saved PDB file to ..\\data\\raw\\1iph.pdb\n",
      "INFO:src.data.sources:Downloading https://files.rcsb.org/download/1jfl.pdb\n"
     ]
    },
    {
     "name": "stdout",
     "output_type": "stream",
     "text": [
      "✗ Resolution 2.8 > 2.5\n",
      "  Testing 1JFL... "
     ]
    },
    {
     "name": "stderr",
     "output_type": "stream",
     "text": [
      "INFO:src.data.sources:Saved PDB file to ..\\data\\raw\\1jfl.pdb\n",
      "INFO:src.data.sources:Downloading https://files.rcsb.org/download/1mbz.pdb\n"
     ]
    },
    {
     "name": "stdout",
     "output_type": "stream",
     "text": [
      "✗ Too long: 456 > 300\n",
      "  Testing 1MBZ... "
     ]
    },
    {
     "name": "stderr",
     "output_type": "stream",
     "text": [
      "INFO:src.data.sources:Saved PDB file to ..\\data\\raw\\1mbz.pdb\n",
      "INFO:src.data.sources:Downloading https://files.rcsb.org/download/1rcx.pdb\n"
     ]
    },
    {
     "name": "stdout",
     "output_type": "stream",
     "text": [
      "✗ Too long: 990 > 300\n",
      "  Testing 1RCX... "
     ]
    },
    {
     "name": "stderr",
     "output_type": "stream",
     "text": [
      "INFO:src.data.sources:Saved PDB file to ..\\data\\raw\\1rcx.pdb\n",
      "INFO:src.data.dataset:Saved 153 proteins to registry\n"
     ]
    },
    {
     "name": "stdout",
     "output_type": "stream",
     "text": [
      "✗ Too long: 4720 > 300\n",
      "  → Successfully added 4 proteins to EC 5\n",
      "\n",
      "--- UPDATED EC CLASS DISTRIBUTION ---\n",
      "EC 1 (Oxidoreductases):  6 proteins (11.1%) ✓✓\n",
      "EC 2 (Transferases   ):  8 proteins (14.8%) ✓✓\n",
      "EC 3 (Hydrolases     ): 11 proteins (20.4%) ✓✓\n",
      "EC 4 (Lyases         ):  8 proteins (14.8%) ✓✓\n",
      "EC 5 (Isomerases     ):  2 proteins ( 3.7%) ⚠\n",
      "\n",
      "Final Assessment:\n",
      "  Total proteins: 54\n",
      "  Minimum class size: 2\n",
      "  Added EC 4: 4 proteins\n",
      "  Added EC 5: 4 proteins\n",
      "  📊 IMBALANCED: Consider focusing on 3-4 well-represented classes\n",
      "  ⚠ CONSIDER USING SUBSET FOR ANALYSIS\n"
     ]
    }
   ],
   "source": [
    "# Balance EC Classes - Focus on EC 4 and EC 5\n",
    "print(\"=== BALANCING EC CLASSES ===\")\n",
    "print(\"Current imbalance detected:\")\n",
    "print(\"  EC 4 (Lyases): 4 proteins - need 4 more\")\n",
    "print(\"  EC 5 (Isomerases): 1 protein - need 6-7 more\")\n",
    "print(\"\\nFocusing search on underrepresented classes...\\n\")\n",
    "\n",
    "# Targeted proteins for EC 4 (Lyases) and EC 5 (Isomerases)\n",
    "targeted_candidates = {\n",
    "    \"4\": [  # Lyases - reliable candidates\n",
    "        \"1ca1\", \"1ca4\", \"1ca7\", \"1cah\", \"1can\", \"1caz\", \"1cnc\", \"1cnd\",\n",
    "        \"1eno\", \"1one\", \"2eno\", \"3eno\", \"4eno\", \"1b8g\", \"1ebh\", \"1nel\",\n",
    "        \"1fba\", \"1zfb\", \"2fba\", \"3fba\", \"4fba\", \"1ald\", \"2ald\", \"3ald\",\n",
    "        \"1pky\", \"2pky\", \"1mpg\", \"2mpg\", \"1csc\", \"1thy\", \"1tls\", \"1mle\"\n",
    "    ],\n",
    "    \"5\": [  # Isomerases - reliable candidates  \n",
    "        \"1tri\", \"2tim\", \"3tim\", \"5tim\", \"6tim\", \"7tim\", \"8tim\", \"1tph\",\n",
    "        \"1pgi\", \"2pgi\", \"3pgi\", \"1dxo\", \"1iri\", \"1tml\", \"1b9b\", \"1btm\",\n",
    "        \"1i0z\", \"1req\", \"1ydv\", \"1amm\", \"1a5z\", \"1mqi\", \"1nsx\", \"1qmg\",\n",
    "        \"2fbp\", \"1ggj\", \"1h16\", \"1hti\", \"1iph\", \"1jfl\", \"1mbz\", \"1rcx\"\n",
    "    ]\n",
    "}\n",
    "\n",
    "proteins_needed = {\"4\": 4, \"5\": 6}\n",
    "proteins_added = {\"4\": 0, \"5\": 0}\n",
    "\n",
    "for ec_class in [\"4\", \"5\"]:\n",
    "    needed = proteins_needed[ec_class]\n",
    "    print(f\"EC {ec_class} ({ec_names[ec_class]}) - need {needed} more proteins:\")\n",
    "    \n",
    "    candidates = targeted_candidates[ec_class]\n",
    "    \n",
    "    for protein_id in candidates:\n",
    "        if proteins_added[ec_class] >= needed:\n",
    "            break\n",
    "            \n",
    "        if protein_id.lower() in registry.proteins:\n",
    "            continue\n",
    "            \n",
    "        try:\n",
    "            print(f\"  Testing {protein_id.upper()}...\", end=\" \")\n",
    "            evaluation = registry.add_protein(protein_id)\n",
    "            \n",
    "            if evaluation[\"meets_criteria\"]:\n",
    "                proteins_added[ec_class] += 1\n",
    "                validation = evaluation.get(\"validation_info\", {})\n",
    "                res = validation.get('resolution', 'N/A')\n",
    "                length = validation.get('amino_acid_count', 'N/A')\n",
    "                print(f\"✓ ADDED ({res}Å, {length}aa)\")\n",
    "            else:\n",
    "                reason = evaluation.get(\"validation_info\", {}).get(\"reason\", \"Unknown\")[:30]\n",
    "                print(f\"✗ {reason}\")\n",
    "                \n",
    "        except Exception as e:\n",
    "            print(f\"✗ Error: {str(e)[:20]}\")\n",
    "        \n",
    "        time.sleep(0.1)\n",
    "    \n",
    "    print(f\"  → Successfully added {proteins_added[ec_class]} proteins to EC {ec_class}\\n\")\n",
    "\n",
    "# Save results\n",
    "registry.save_registry()\n",
    "\n",
    "# Re-analyze distribution\n",
    "valid_proteins = registry.get_valid_proteins()\n",
    "total_valid = len(valid_proteins)\n",
    "\n",
    "# Recalculate EC distribution\n",
    "ec_distribution = defaultdict(list)\n",
    "for protein_id, info in valid_proteins.items():\n",
    "    description = info.get('function_info', {}).get('description', '')\n",
    "    ec_class = classify_protein_by_name(protein_id, description)\n",
    "    if ec_class != \"Unknown\":\n",
    "        ec_distribution[ec_class].append(protein_id)\n",
    "\n",
    "print(\"--- UPDATED EC CLASS DISTRIBUTION ---\")\n",
    "for ec_class in [\"1\", \"2\", \"3\", \"4\", \"5\"]:\n",
    "    count = len(ec_distribution[ec_class])\n",
    "    percentage = (count / total_valid) * 100 if total_valid > 0 else 0\n",
    "    status = \"✓✓\" if count >= 6 else \"✓\" if count >= 4 else \"⚠\"\n",
    "    print(f\"EC {ec_class} ({ec_names[ec_class]:15s}): {count:2d} proteins ({percentage:4.1f}%) {status}\")\n",
    "\n",
    "# Final assessment\n",
    "balance_score = min([len(ec_distribution[ec]) for ec in [\"1\", \"2\", \"3\", \"4\", \"5\"]])\n",
    "print(f\"\\nFinal Assessment:\")\n",
    "print(f\"  Total proteins: {total_valid}\")\n",
    "print(f\"  Minimum class size: {balance_score}\")\n",
    "print(f\"  Added EC 4: {proteins_added['4']} proteins\")\n",
    "print(f\"  Added EC 5: {proteins_added['5']} proteins\")\n",
    "\n",
    "if balance_score >= 4:\n",
    "    print(f\"  📊 EXCELLENT: Well-balanced dataset ready for analysis!\")\n",
    "    print(f\"  ✅ PROCEED TO FEATURE EXTRACTION\")\n",
    "elif balance_score >= 3:\n",
    "    print(f\"  📊 GOOD: Acceptable balance for ML analysis\")\n",
    "    print(f\"  ✅ CAN PROCEED TO FEATURE EXTRACTION\")\n",
    "else:\n",
    "    print(f\"  📊 IMBALANCED: Consider focusing on 3-4 well-represented classes\")\n",
    "    print(f\"  ⚠ CONSIDER USING SUBSET FOR ANALYSIS\")"
   ]
  },
  {
   "cell_type": "code",
   "execution_count": 36,
   "metadata": {
    "scrolled": true
   },
   "outputs": [
    {
     "name": "stdout",
     "output_type": "stream",
     "text": [
      "=== FINAL DATASET STRATEGY ===\n",
      "EC 1 (Oxidoreductases):  6 proteins\n",
      "EC 2 (Transferases   ):  8 proteins\n",
      "EC 3 (Hydrolases     ): 11 proteins\n",
      "EC 4 (Lyases         ):  8 proteins\n",
      "\n",
      "Balanced Dataset Summary:\n",
      "  4 EC classes: ['1', '2', '3', '4']\n",
      "  Total proteins: 33\n",
      "  Average per class: 8.2\n",
      "  Range: 6-11 proteins per class\n",
      "\n",
      "📊 FINAL DATASET ASSESSMENT:\n",
      "✅ EXCELLENT: 33 proteins across 4 balanced EC classes\n",
      "✅ High quality: Average resolution 1.85Å\n",
      "✅ Good size distribution: 58-297 amino acids\n",
      "✅ READY FOR FEATURE EXTRACTION AND ML ANALYSIS\n",
      "\n",
      "--- FILES CREATED ---\n",
      "Complete registry: ..\\data\\processed\\protein_registry.json\n",
      "Balanced dataset: ..\\data\\processed\\balanced_dataset.json\n",
      "PDB structures: ..\\data\\raw\n",
      "\n",
      "--- READY FOR NEXT PHASE ---\n",
      "🎯 DATA COLLECTION: COMPLETE ✅\n",
      "📊 Dataset: 33 proteins across 4 EC classes\n",
      "🔬 Next step: Feature extraction (02_feature_extraction.ipynb)\n",
      "🤖 ML training: Will use 4-class classification (EC 1,2,3,4)\n"
     ]
    }
   ],
   "source": [
    "# Final Dataset Strategy - Focus on 4 Balanced EC Classes\n",
    "print(\"=== FINAL DATASET STRATEGY ===\")\n",
    "\n",
    "# Option 1: Use EC classes 1-4 (well-represented)\n",
    "balanced_classes = [\"1\", \"2\", \"3\", \"4\"]\n",
    "balanced_proteins = []\n",
    "\n",
    "for ec_class in balanced_classes:\n",
    "    class_proteins = ec_distribution[ec_class]\n",
    "    balanced_proteins.extend(class_proteins)\n",
    "    print(f\"EC {ec_class} ({ec_names[ec_class]:15s}): {len(class_proteins):2d} proteins\")\n",
    "\n",
    "print(f\"\\nBalanced Dataset Summary:\")\n",
    "print(f\"  4 EC classes: {balanced_classes}\")\n",
    "print(f\"  Total proteins: {len(balanced_proteins)}\")\n",
    "print(f\"  Average per class: {len(balanced_proteins)/4:.1f}\")\n",
    "print(f\"  Range: {min([len(ec_distribution[ec]) for ec in balanced_classes])}-{max([len(ec_distribution[ec]) for ec in balanced_classes])} proteins per class\")\n",
    "\n",
    "# Quality assessment\n",
    "print(f\"\\n📊 FINAL DATASET ASSESSMENT:\")\n",
    "print(f\"✅ EXCELLENT: 33 proteins across 4 balanced EC classes\")\n",
    "print(f\"✅ High quality: Average resolution {sum(resolutions)/len(resolutions):.2f}Å\")\n",
    "print(f\"✅ Good size distribution: {min(lengths)}-{max(lengths)} amino acids\")\n",
    "print(f\"✅ READY FOR FEATURE EXTRACTION AND ML ANALYSIS\")\n",
    "\n",
    "# Save balanced protein list for next notebook\n",
    "balanced_dataset = {\n",
    "    \"total_proteins\": len(balanced_proteins),\n",
    "    \"ec_classes\": balanced_classes,\n",
    "    \"proteins_by_ec\": {ec: ec_distribution[ec] for ec in balanced_classes},\n",
    "    \"protein_ids\": balanced_proteins,\n",
    "    \"excluded_ec5\": ec_distribution[\"5\"]  # Keep track of excluded proteins\n",
    "}\n",
    "\n",
    "# Save to a separate file for easy loading\n",
    "import json\n",
    "balanced_file = registry.registry_file.parent / \"balanced_dataset.json\"\n",
    "with open(balanced_file, 'w') as f:\n",
    "    json.dump(balanced_dataset, f, indent=2)\n",
    "\n",
    "print(f\"\\n--- FILES CREATED ---\")\n",
    "print(f\"Complete registry: {registry.registry_file}\")\n",
    "print(f\"Balanced dataset: {balanced_file}\")\n",
    "print(f\"PDB structures: {registry.data_source.cache_dir}\")\n",
    "\n",
    "print(f\"\\n--- READY FOR NEXT PHASE ---\")\n",
    "print(f\"🎯 DATA COLLECTION: COMPLETE ✅\")\n",
    "print(f\"📊 Dataset: 33 proteins across 4 EC classes\")\n",
    "print(f\"🔬 Next step: Feature extraction (02_feature_extraction.ipynb)\")\n",
    "print(f\"🤖 ML training: Will use 4-class classification (EC 1,2,3,4)\")"
   ]
  },
  {
   "cell_type": "code",
   "execution_count": null,
   "metadata": {},
   "outputs": [],
   "source": []
  }
 ],
 "metadata": {
  "kernelspec": {
   "display_name": "Python (Protein-ML)",
   "language": "python",
   "name": "protein-ml"
  },
  "language_info": {
   "codemirror_mode": {
    "name": "ipython",
    "version": 3
   },
   "file_extension": ".py",
   "mimetype": "text/x-python",
   "name": "python",
   "nbconvert_exporter": "python",
   "pygments_lexer": "ipython3",
   "version": "3.9.22"
  }
 },
 "nbformat": 4,
 "nbformat_minor": 4
}
